{
 "cells": [
  {
   "cell_type": "markdown",
   "metadata": {},
   "source": [
    "### Зачетная работа по курсу Системы компьютерной математики\n",
    "### Вариант 5\n",
    "#### Выполнил студент группы 381908-3 Титов Егор Сергеевич\n",
    "\n"
   ]
  },
  {
   "cell_type": "markdown",
   "metadata": {},
   "source": [
    "### Интерполяция и численное интегрирование. Формула ошибок\n",
    "Постройте $11$ точек, взяв\n",
    "$$\n",
    "x_i = \\frac{i-1}{10}, \\quad y_i = {\\rm erf} x_i\\quad (i=1,\\dots,11),\n",
    "$$\n",
    "где\n",
    "$$\n",
    "{\\rm erf} x = \\frac{2}{\\sqrt{\\pi}} \\int_0^x e^{-t^2} dt\n",
    "$$\n",
    "– *функция ошибок*. Для вычисления ${\\rm erf} x$\n",
    "воспользуйтесь `scipy.special.erf`.\n",
    "\n",
    "* Составьте систему линейных уравнений для нахождения\n",
    "коэффициентов интерполирующего многочлена $10$-ой степени.\n",
    "С помощью функции `scipy.linalg.cond` найдите\n",
    "число обусловленности этой системы. Решите составленную систему.\n",
    "Насколько достоверно полученное решение? С помощью построенного\n",
    "интерполянта протабулируйте значение функции в промежуточных точках.\n",
    "Чему равны абсолютная и относительная ошибки?\n",
    "* Сравните коэффициенты построенного интерполирующего многочлена\n",
    "с коэффициентами многочлена, который можно получить с помощью функции\n",
    "`numpy.polyfit`. В чем разница?\n",
    "\n",
    "* Постройте кубический эрмитов интерполянт (`scipy.interpolate.pchip`) и кубический сплайн\n",
    "(`scipy.interpolate.spline`). Найдите значения интерполянтов в тех же точках, что и в предыдущих\n",
    "пунктах и сравните результаты.\n",
    "\n",
    "Составленная программа должна выводить исходные точки,\n",
    "графики интерполируемой функции и интерполянтов\n",
    "и графики зависимости чисал обусловленности от степени интерполяционного многочлена\n"
   ]
  },
  {
   "cell_type": "code",
   "execution_count": 192,
   "metadata": {},
   "outputs": [],
   "source": [
    "import numpy as np\n",
    "import matplotlib.pyplot as plt\n",
    "%matplotlib inline\n",
    "from scipy import linalg\n",
    "from scipy import interpolate"
   ]
  },
  {
   "cell_type": "markdown",
   "metadata": {},
   "source": [
    "Для начала мы получаем исходные данные и на их основе строим график из исходных точек "
   ]
  },
  {
   "cell_type": "code",
   "execution_count": 193,
   "metadata": {},
   "outputs": [
    {
     "name": "stdout",
     "output_type": "stream",
     "text": [
      "[-0.1  0.   0.1  0.2  0.3  0.4  0.5  0.6  0.7  0.8  0.9]\n",
      "[-0.11246292  0.          0.11246292  0.22270259  0.32862676  0.42839236\n",
      "  0.52049988  0.60385609  0.67780119  0.74210096  0.79690821]\n"
     ]
    },
    {
     "data": {
      "image/png": "[encoded data removed]",
      "text/plain": [
       "<Figure size 576x576 with 1 Axes>"
      ]
     },
     "metadata": {
      "needs_background": "light"
     },
     "output_type": "display_data"
    }
   ],
   "source": [
    "fig1=plt.figure(figsize=[8,8])\n",
    "x=np.array([(i-1)/10 for i in range(11)])\n",
    "print (x)\n",
    "y=np.array([erf(i) for i in x])\n",
    "print (y)\n",
    "\n",
    "plt.plot(x, y, 'o', color='tab:red', label='[исходные точки]')\n",
    "plt.grid()\n",
    "plt.legend()\n",
    "pass\n"
   ]
  },
  {
   "cell_type": "markdown",
   "metadata": {},
   "source": [
    "Исходя из лекции №6 мы можем сделать вывод, что система линейных уравнений имеет матрицу Вандермонда и если ввести также векторы то мы получим, что система принимает вид $Wa = y$.\n",
    "\n",
    "Найдем саму матрицу и с её помощью ,применив функцию из условия задачи, находим число обусловленностей этой системы"
   ]
  },
  {
   "cell_type": "code",
   "execution_count": 194,
   "metadata": {},
   "outputs": [
    {
     "data": {
      "text/plain": [
       "48418951.19728199"
      ]
     },
     "execution_count": 194,
     "metadata": {},
     "output_type": "execute_result"
    }
   ],
   "source": [
    "wd = np.vander(x)\n",
    "np.linalg.cond (wd)"
   ]
  },
  {
   "cell_type": "markdown",
   "metadata": {},
   "source": [
    "Мы видим, что кол-во обусловленностей этой системы велико. Из этого мы можем сделать вывод, что погрешности \n",
    "при расчетах могут сильно исказить решение."
   ]
  },
  {
   "cell_type": "markdown",
   "metadata": {},
   "source": [
    "Теперь с помощью функций f=np.polyfit(x, y, n) и linalg.solve(wd, y) находим коэффициенты интерполяционного многочлена. После чего сравним полученный результат"
   ]
  },
  {
   "cell_type": "code",
   "execution_count": 195,
   "metadata": {},
   "outputs": [
    {
     "data": {
      "text/plain": [
       "array([-1.81541514e-03,  6.99182420e-03, -9.06336489e-04, -2.66590511e-02,\n",
       "        1.42861748e-05,  1.12819182e-01,  3.51775802e-06, -3.76126475e-01,\n",
       "       -3.56817061e-08,  1.12837917e+00,  0.00000000e+00])"
      ]
     },
     "execution_count": 195,
     "metadata": {},
     "output_type": "execute_result"
    }
   ],
   "source": [
    "linalg.solve(wd, y)"
   ]
  },
  {
   "cell_type": "code",
   "execution_count": 196,
   "metadata": {},
   "outputs": [
    {
     "name": "stdout",
     "output_type": "stream",
     "text": [
      "[-1.81541513e-03  6.99182413e-03 -9.06336372e-04 -2.66590512e-02\n",
      "  1.42862435e-05  1.12819182e-01  3.51776266e-06 -3.76126475e-01\n",
      " -3.56817459e-08  1.12837917e+00 -3.28313492e-16]\n"
     ]
    }
   ],
   "source": [
    "fnc = np.polyfit(x, y, 10)\n",
    "print (fnc)"
   ]
  },
  {
   "cell_type": "markdown",
   "metadata": {},
   "source": [
    "При использовании двух различных функций для одной задачи получаем почти идентичные результаты.\n",
    "Различие между ними заключается только в последнем значении. "
   ]
  },
  {
   "cell_type": "markdown",
   "metadata": {},
   "source": [
    "Но это решение скорее всего не достоверное, так как из-за большого количества обусловленностей конечный результат может сильно измениться. Поэтому совершим проверку. При верном результате полученные значения должны быть равны y."
   ]
  },
  {
   "cell_type": "code",
   "execution_count": 197,
   "metadata": {},
   "outputs": [
    {
     "name": "stdout",
     "output_type": "stream",
     "text": [
      "[-0.11246292  0.          0.11246292  0.22270259  0.32862676  0.42839236\n",
      "  0.52049988  0.60385609  0.67780119  0.74210096  0.79690821]\n",
      "[0.11889633 0.14768757 0.18306701 0.22629366 0.27870973 0.34164658\n",
      " 0.41628369 0.50349569 0.60371677 0.71692024 0.84270067]\n"
     ]
    }
   ],
   "source": [
    "ytr=np.dot(fnc,wd)\n",
    "print(y)\n",
    "print(ytr)"
   ]
  },
  {
   "cell_type": "markdown",
   "metadata": {},
   "source": [
    "Результат проверки показал, что эти значения абсолютно не совпадают и погрешность всетаки присутствует."
   ]
  },
  {
   "cell_type": "markdown",
   "metadata": {},
   "source": [
    "Расчитаем абсолютную и относительную погрешность. За усредненный результат примем 0.5"
   ]
  },
  {
   "cell_type": "code",
   "execution_count": 198,
   "metadata": {},
   "outputs": [
    {
     "name": "stdout",
     "output_type": "stream",
     "text": [
      "абсолютная погрешность= 0.09210752276637774\n",
      "относительная погрешность= 0.21500739142822395\n"
     ]
    }
   ],
   "source": [
    "np.polyval(fnc, 0.5)\n",
    "absp=abs(np.polyval(fnc, 0.5)-y[5])\n",
    "otnosp=absp/y[5]\n",
    "print('абсолютная погрешность=',absp)\n",
    "print ('относительная погрешность=',otnosp)"
   ]
  },
  {
   "cell_type": "markdown",
   "metadata": {},
   "source": [
    "Теперь протабулируем значение функции в промежуточных точках."
   ]
  },
  {
   "cell_type": "code",
   "execution_count": 199,
   "metadata": {},
   "outputs": [
    {
     "data": {
      "text/plain": [
       "array([[0.11246292, 0.1403162 , 0.16799597, 0.19546894, 0.22270259]])"
      ]
     },
     "execution_count": 199,
     "metadata": {},
     "output_type": "execute_result"
    }
   ],
   "source": [
    "np.polyval(fnc, [[0.1, 0.125, 0.150, 0.175, 0.2]])"
   ]
  },
  {
   "cell_type": "markdown",
   "metadata": {},
   "source": [
    "Построиv кубический эрмитов интерполнят, кубический сплайн и сравниv результаты"
   ]
  },
  {
   "cell_type": "code",
   "execution_count": 200,
   "metadata": {},
   "outputs": [
    {
     "name": "stdout",
     "output_type": "stream",
     "text": [
      "[[0.11246292 0.14031585 0.16799545 0.19546869 0.22270259]] KS\n",
      "[[0.11246292 0.14028076 0.16799542 0.19550375 0.22270259]] KEI\n"
     ]
    },
    {
     "data": {
      "image/png": "[encoded data removed]",
      "text/plain": [
       "<Figure size 576x576 with 1 Axes>"
      ]
     },
     "metadata": {
      "needs_background": "light"
     },
     "output_type": "display_data"
    }
   ],
   "source": [
    "fig1=plt.figure(figsize=[8,8])\n",
    "kusp= interpolate.interp1d(x, y, kind = 'cubic')\n",
    "znach = [[0.1, 0.125, 0.150, 0.175, 0.2]]\n",
    "print(kusp(znach),'KS') \n",
    "mnx = np.linspace(np.min(x), np.max(x), 500)\n",
    "plt.plot(mnx, kusp(mnx), color = 'tab:blue')\n",
    "plt.plot(x, y, 'o', color = 'tab:green', label='Кубический сплайн')\n",
    "keint = interpolate.pchip(x, y)\n",
    "print(keint(znach), 'KEI')\n",
    "plt.plot(mnx, keint(mnx),   color = 'tab:blue')\n",
    "plt.plot(x, y, 'o', color = 'tab:red', label='Кубический эрмитов интерполянт')\n",
    "plt.grid()\n",
    "plt.legend()\n",
    "pass"
   ]
  },
  {
   "cell_type": "markdown",
   "metadata": {},
   "source": [
    "#### Значения интерполянтов в промежуточных точках совпадают.\n",
    "\n",
    "По данному графику явно видно, что что значения интерполянтов в промежуточных точках совпадают и абсолютно идентичны или стремятся быть таковыми"
   ]
  }
 ],
 "metadata": {
  "kernelspec": {
   "display_name": "Python 3",
   "language": "python",
   "name": "python3"
  },
  "language_info": {
   "codemirror_mode": {
    "name": "ipython",
    "version": 3
   },
   "file_extension": ".py",
   "mimetype": "text/x-python",
   "name": "python",
   "nbconvert_exporter": "python",
   "pygments_lexer": "ipython3",
   "version": "3.7.6"
  }
 },
 "nbformat": 4,
 "nbformat_minor": 4
}
